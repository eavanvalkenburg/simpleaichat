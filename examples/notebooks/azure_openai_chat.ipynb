{
 "cells": [
  {
   "attachments": {},
   "cell_type": "markdown",
   "metadata": {},
   "source": [
    "simpleaichat Azure OpenAI example."
   ]
  },
  {
   "cell_type": "code",
   "execution_count": 1,
   "metadata": {},
   "outputs": [
    {
     "name": "stderr",
     "output_type": "stream",
     "text": [
      "/home/vscode/.local/lib/python3.11/site-packages/pydantic/_internal/_config.py:261: UserWarning: Valid config keys have changed in V2:\n",
      "* 'json_dumps' has been removed\n",
      "* 'json_loads' has been removed\n",
      "  warnings.warn(message, UserWarning)\n"
     ]
    }
   ],
   "source": [
    "import os\n",
    "from simpleaichat import AIChat"
   ]
  },
  {
   "cell_type": "code",
   "execution_count": 2,
   "metadata": {},
   "outputs": [],
   "source": [
    "params = {\"temperature\": 0.0}  # for reproducibility\n",
    "model = os.getenv(\"OPENAI_DEPLOYMENT_NAME\") # azure deployment name\n",
    "api_url =  os.getenv(\"OPENAI_API_BASE\") # https://xyz.openai.azure.com/\n",
    "api_key =  os.getenv(\"OPENAI_API_KEY\")  # 123...\n",
    "api_version = os.getenv(\"OPENAI_API_VERSION\") # 2023-05-15-preview \n",
    "ai = AIChat(console=False, params=params, model=model, api_type=\"azure\",\n",
    "             api_url=api_url, api_version=api_version)"
   ]
  },
  {
   "cell_type": "code",
   "execution_count": 3,
   "metadata": {},
   "outputs": [
    {
     "ename": "ValidationError",
     "evalue": "3 validation errors for ChatMessage\nprompt_length\n  Field required [type=missing, input_value={'role': 'system', 'conte...e a helpful assistant.'}, input_type=dict]\n    For further information visit https://errors.pydantic.dev/2.0.3/v/missing\ncompletion_length\n  Field required [type=missing, input_value={'role': 'system', 'conte...e a helpful assistant.'}, input_type=dict]\n    For further information visit https://errors.pydantic.dev/2.0.3/v/missing\ntotal_length\n  Field required [type=missing, input_value={'role': 'system', 'conte...e a helpful assistant.'}, input_type=dict]\n    For further information visit https://errors.pydantic.dev/2.0.3/v/missing",
     "output_type": "error",
     "traceback": [
      "\u001b[0;31m---------------------------------------------------------------------------\u001b[0m",
      "\u001b[0;31mValidationError\u001b[0m                           Traceback (most recent call last)",
      "Cell \u001b[0;32mIn[3], line 1\u001b[0m\n\u001b[0;32m----> 1\u001b[0m response \u001b[39m=\u001b[39m ai(\u001b[39m\"\u001b[39;49m\u001b[39mHello.\u001b[39;49m\u001b[39m\"\u001b[39;49m)\n\u001b[1;32m      2\u001b[0m \u001b[39mprint\u001b[39m(response)\n",
      "File \u001b[0;32m/workspaces/simpleaichat/simpleaichat/simpleaichat.py:131\u001b[0m, in \u001b[0;36mAIChat.__call__\u001b[0;34m(self, prompt, id, system, save_messages, params, tools)\u001b[0m\n\u001b[1;32m    122\u001b[0m     \u001b[39mreturn\u001b[39;00m sess\u001b[39m.\u001b[39mgen_with_tools(\n\u001b[1;32m    123\u001b[0m         prompt,\n\u001b[1;32m    124\u001b[0m         tools,\n\u001b[0;32m   (...)\u001b[0m\n\u001b[1;32m    128\u001b[0m         params\u001b[39m=\u001b[39mparams,\n\u001b[1;32m    129\u001b[0m     )\n\u001b[1;32m    130\u001b[0m \u001b[39melse\u001b[39;00m:\n\u001b[0;32m--> 131\u001b[0m     \u001b[39mreturn\u001b[39;00m sess\u001b[39m.\u001b[39;49mgen(\n\u001b[1;32m    132\u001b[0m         prompt,\n\u001b[1;32m    133\u001b[0m         client\u001b[39m=\u001b[39;49m\u001b[39mself\u001b[39;49m\u001b[39m.\u001b[39;49mclient,\n\u001b[1;32m    134\u001b[0m         system\u001b[39m=\u001b[39;49msystem,\n\u001b[1;32m    135\u001b[0m         save_messages\u001b[39m=\u001b[39;49msave_messages,\n\u001b[1;32m    136\u001b[0m         params\u001b[39m=\u001b[39;49mparams,\n\u001b[1;32m    137\u001b[0m     )\n",
      "File \u001b[0;32m/workspaces/simpleaichat/simpleaichat/chatgpt.py:64\u001b[0m, in \u001b[0;36mChatGPTSession.gen\u001b[0;34m(self, prompt, client, system, save_messages, params)\u001b[0m\n\u001b[1;32m     56\u001b[0m \u001b[39mdef\u001b[39;00m \u001b[39mgen\u001b[39m(\n\u001b[1;32m     57\u001b[0m     \u001b[39mself\u001b[39m,\n\u001b[1;32m     58\u001b[0m     prompt: \u001b[39mstr\u001b[39m,\n\u001b[0;32m   (...)\u001b[0m\n\u001b[1;32m     62\u001b[0m     params: Dict[\u001b[39mstr\u001b[39m, Any] \u001b[39m|\u001b[39m \u001b[39mNone\u001b[39;00m \u001b[39m=\u001b[39m \u001b[39mNone\u001b[39;00m,\n\u001b[1;32m     63\u001b[0m ):\n\u001b[0;32m---> 64\u001b[0m     endpoint, headers, data, user_message \u001b[39m=\u001b[39m \u001b[39mself\u001b[39;49m\u001b[39m.\u001b[39;49mprepare_request(\n\u001b[1;32m     65\u001b[0m         prompt, system, params\n\u001b[1;32m     66\u001b[0m     )\n\u001b[1;32m     68\u001b[0m     r \u001b[39m=\u001b[39m client\u001b[39m.\u001b[39mpost(\n\u001b[1;32m     69\u001b[0m         endpoint,\n\u001b[1;32m     70\u001b[0m         json\u001b[39m=\u001b[39mdata,\n\u001b[1;32m     71\u001b[0m         headers\u001b[39m=\u001b[39mheaders,\n\u001b[1;32m     72\u001b[0m         timeout\u001b[39m=\u001b[39m\u001b[39mNone\u001b[39;00m,\n\u001b[1;32m     73\u001b[0m     )\n\u001b[1;32m     74\u001b[0m     r \u001b[39m=\u001b[39m r\u001b[39m.\u001b[39mjson()\n",
      "File \u001b[0;32m/workspaces/simpleaichat/simpleaichat/chatgpt.py:43\u001b[0m, in \u001b[0;36mChatGPTSession.prepare_request\u001b[0;34m(self, prompt, system, params, stream)\u001b[0m\n\u001b[1;32m     37\u001b[0m     headers \u001b[39m=\u001b[39m {\n\u001b[1;32m     38\u001b[0m         \u001b[39m\"\u001b[39m\u001b[39mContent-Type\u001b[39m\u001b[39m\"\u001b[39m: \u001b[39m\"\u001b[39m\u001b[39mapplication/json\u001b[39m\u001b[39m\"\u001b[39m,\n\u001b[1;32m     39\u001b[0m         \u001b[39m\"\u001b[39m\u001b[39mAuthorization\u001b[39m\u001b[39m\"\u001b[39m: \u001b[39mf\u001b[39m\u001b[39m\"\u001b[39m\u001b[39mBearer \u001b[39m\u001b[39m{\u001b[39;00m\u001b[39mself\u001b[39m\u001b[39m.\u001b[39mauth[\u001b[39m'\u001b[39m\u001b[39mapi_key\u001b[39m\u001b[39m'\u001b[39m]\u001b[39m.\u001b[39mget_secret_value()\u001b[39m}\u001b[39;00m\u001b[39m\"\u001b[39m,\n\u001b[1;32m     40\u001b[0m     }\n\u001b[1;32m     41\u001b[0m     endpoint \u001b[39m=\u001b[39m \u001b[39mf\u001b[39m\u001b[39m\"\u001b[39m\u001b[39m{\u001b[39;00m\u001b[39mself\u001b[39m\u001b[39m.\u001b[39mapi_url\u001b[39m}\u001b[39;00m\u001b[39m/v1/chat/completions\u001b[39m\u001b[39m\"\u001b[39m\n\u001b[0;32m---> 43\u001b[0m system_message \u001b[39m=\u001b[39m ChatMessage(role\u001b[39m=\u001b[39;49m\u001b[39m\"\u001b[39;49m\u001b[39msystem\u001b[39;49m\u001b[39m\"\u001b[39;49m, content\u001b[39m=\u001b[39;49msystem \u001b[39mor\u001b[39;49;00m \u001b[39mself\u001b[39;49m\u001b[39m.\u001b[39;49msystem)\n\u001b[1;32m     44\u001b[0m user_message \u001b[39m=\u001b[39m ChatMessage(role\u001b[39m=\u001b[39m\u001b[39m\"\u001b[39m\u001b[39muser\u001b[39m\u001b[39m\"\u001b[39m, content\u001b[39m=\u001b[39mprompt)\n\u001b[1;32m     46\u001b[0m gen_params \u001b[39m=\u001b[39m params \u001b[39mor\u001b[39;00m \u001b[39mself\u001b[39m\u001b[39m.\u001b[39mparams\n",
      "File \u001b[0;32m~/.local/lib/python3.11/site-packages/pydantic/main.py:150\u001b[0m, in \u001b[0;36mBaseModel.__init__\u001b[0;34m(__pydantic_self__, **data)\u001b[0m\n\u001b[1;32m    148\u001b[0m \u001b[39m# `__tracebackhide__` tells pytest and some other tools to omit this function from tracebacks\u001b[39;00m\n\u001b[1;32m    149\u001b[0m __tracebackhide__ \u001b[39m=\u001b[39m \u001b[39mTrue\u001b[39;00m\n\u001b[0;32m--> 150\u001b[0m __pydantic_self__\u001b[39m.\u001b[39;49m__pydantic_validator__\u001b[39m.\u001b[39;49mvalidate_python(data, self_instance\u001b[39m=\u001b[39;49m__pydantic_self__)\n",
      "\u001b[0;31mValidationError\u001b[0m: 3 validation errors for ChatMessage\nprompt_length\n  Field required [type=missing, input_value={'role': 'system', 'conte...e a helpful assistant.'}, input_type=dict]\n    For further information visit https://errors.pydantic.dev/2.0.3/v/missing\ncompletion_length\n  Field required [type=missing, input_value={'role': 'system', 'conte...e a helpful assistant.'}, input_type=dict]\n    For further information visit https://errors.pydantic.dev/2.0.3/v/missing\ntotal_length\n  Field required [type=missing, input_value={'role': 'system', 'conte...e a helpful assistant.'}, input_type=dict]\n    For further information visit https://errors.pydantic.dev/2.0.3/v/missing"
     ]
    }
   ],
   "source": [
    "response = ai(\"Hello.\")\n",
    "print(response)"
   ]
  },
  {
   "cell_type": "code",
   "execution_count": null,
   "metadata": {},
   "outputs": [],
   "source": []
  }
 ],
 "metadata": {
  "kernelspec": {
   "display_name": "Python 3",
   "language": "python",
   "name": "python3"
  },
  "language_info": {
   "codemirror_mode": {
    "name": "ipython",
    "version": 3
   },
   "file_extension": ".py",
   "mimetype": "text/x-python",
   "name": "python",
   "nbconvert_exporter": "python",
   "pygments_lexer": "ipython3",
   "version": "3.11.4"
  },
  "orig_nbformat": 4
 },
 "nbformat": 4,
 "nbformat_minor": 2
}
